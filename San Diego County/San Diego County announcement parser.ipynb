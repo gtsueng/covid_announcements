{
 "cells": [
  {
   "cell_type": "markdown",
   "metadata": {},
   "source": [
    "# San Diego County News Parser\n",
    "This code pulls rss feeds from San Diego Count News Center (official communications channel of San Diego County) and parses it for covid announcements."
   ]
  },
  {
   "cell_type": "code",
   "execution_count": 1,
   "metadata": {},
   "outputs": [],
   "source": [
    "import feedparser\n",
    "import requests\n",
    "from bs4 import BeautifulSoup\n",
    "from datetime import datetime\n",
    "import time\n",
    "import pickle\n",
    "import json"
   ]
  },
  {
   "cell_type": "code",
   "execution_count": 2,
   "metadata": {},
   "outputs": [],
   "source": [
    "#### Functions for getting archived url lists\n",
    "def get_page_links(article_main_object):\n",
    "    linklist = []\n",
    "    articlelist = article_main_object.findAll(\"article\")\n",
    "    for eacharticle in articlelist:\n",
    "        headerobject = eacharticle.findAll(\"h2\", class_=\"entry-title card-title\")\n",
    "        postlink = headerobject[0].findAll(\"a\")\n",
    "        linklist.append(postlink[0].get(\"href\"))\n",
    "    return linklist\n",
    "\n",
    "\n",
    "def get_lastpage(article_main_object):\n",
    "    pageobject = article_main_object.findAll(\"div\", class_=\"pagination\")\n",
    "    lastpage = pageobject[0].findAll(\"a\", class_=\"page-numbers\")[-2].contents[1]\n",
    "    return lastpage\n",
    "\n",
    "\n",
    "def get_archive_links(baseurl, daterange):\n",
    "    archivelinks = []\n",
    "    for eachdate in daterange:\n",
    "        rawresult = requests.get(baseurl + eachdate)\n",
    "        archivemain = BeautifulSoup(rawresult.text, \"html.parser\")\n",
    "        archivelinks.extend(get_page_links(archivemain))\n",
    "        lastpage = get_lastpage(archivemain)\n",
    "        i = 2\n",
    "        while i < int(lastpage) + 1:\n",
    "            rtmp = requests.get(baseurl + eachdate + \"page/\" + str(i) + \"/\")\n",
    "            tmpresult = BeautifulSoup(rtmp.text, \"html.parser\")\n",
    "            archivelinks.extend(get_page_links(tmpresult))\n",
    "            i = i + 1\n",
    "            time.sleep(0.5)\n",
    "    return archivelinks\n",
    "\n",
    "\n",
    "#### Functions for getting article content\n",
    "def get_authors(mainarticle):\n",
    "    authors = []\n",
    "    authorlist = mainarticle.findAll(\"span\", class_=\"author vcard\")\n",
    "    for eachauthor in authorlist:\n",
    "        basic_author = eachauthor.text.split(\", \")\n",
    "        authorname = basic_author[0]\n",
    "        affiliation = basic_author[-1]\n",
    "        nameparts = authorname.split(\" \")\n",
    "        tmpdict = {\n",
    "            \"type\": \"@Person\",\n",
    "            \"name\": authorname,\n",
    "            \"affiliation\": {\"name\": affiliation},\n",
    "        }\n",
    "        if len(nameparts) == 3:\n",
    "            tmpdict[\"givenName\"] = nameparts[0] + \" \" + nameparts[1]\n",
    "            tmpdict[\"familyName\"] = nameparts[2]\n",
    "        elif len(nameparts) == 2:\n",
    "            tmpdict[\"givenName\"] = nameparts[0]\n",
    "            tmpdict[\"familyName\"] = nameparts[1]\n",
    "        authors.append(tmpdict)\n",
    "    return authors\n",
    "\n",
    "\n",
    "def get_keywords(mainarticle):\n",
    "    keywordprops = mainarticle.findAll(\"meta\", {\"property\": \"article:tag\"})\n",
    "    keywords = []\n",
    "    for eachentry in keywordprops:\n",
    "        keywords.append(eachentry.get(\"content\"))\n",
    "    return keywords\n",
    "\n",
    "\n",
    "def get_basic_info(mainarticle):\n",
    "    article_title = mainarticle.find(\"meta\", {\"property\": \"og:title\"}).get(\"content\")\n",
    "    article_description = mainarticle.find(\"meta\", {\"property\": \"og:description\"}).get(\n",
    "        \"content\"\n",
    "    )\n",
    "    try:\n",
    "        datePublished = mainarticle.find(\n",
    "            \"meta\", {\"property\": \"article:published_time\"}\n",
    "        ).get(\"content\")\n",
    "    except:\n",
    "        datePublished = mainarticle.find(\"meta\", {\"property\": \"og:updated_time\"}).get(\n",
    "            \"content\"\n",
    "        )\n",
    "    try:\n",
    "        dateModified = mainarticle.find(\n",
    "            \"meta\", {\"property\": \"article:modified_time\"}\n",
    "        ).get(\"content\")\n",
    "    except:\n",
    "        dateModified = mainarticle.find(\"meta\", {\"property\": \"og:updated_time\"}).get(\n",
    "            \"content\"\n",
    "        )\n",
    "    url = mainarticle.find(\"meta\", {\"property\": \"og:url\"}).get(\"content\")\n",
    "    authors = get_authors(mainarticle)\n",
    "    keywords = get_keywords(mainarticle)\n",
    "    tmpdict = {\n",
    "        \"name\": article_title,\n",
    "        \"description\": article_description,\n",
    "        \"datePublished\": datePublished,\n",
    "        \"url\": url,\n",
    "        \"keywords\": keywords,\n",
    "        \"author\": authors,\n",
    "        \"dateModified\": dateModified,\n",
    "    }\n",
    "    return tmpdict\n",
    "\n",
    "\n",
    "def get_other_meta(mainarticle):\n",
    "    articletype = mainarticle.find(\"meta\", {\"property\": \"og:type\"}).get(\"content\")\n",
    "    article = mainarticle.find(\"div\", class_=\"entry-content\").text\n",
    "    return {\"articleType\": articletype, \"articleContent\": article}\n",
    "\n",
    "\n",
    "## Functions for getting new posts\n",
    "def get_update_urls():\n",
    "    newsfeed = feedparser.parse(\"https://www.countynewscenter.com/news/rss\")\n",
    "    newsresults = []\n",
    "    for eachentry in newsfeed.entries:\n",
    "        newsresults.append(eachentry[\"id\"])\n",
    "    return newsresults\n",
    "\n",
    "\n",
    "## Functions for parsing results\n",
    "def parse_page(linklist):\n",
    "    failures = []\n",
    "    baseurl = \"https://www.countynewscenter.com/\"\n",
    "    location = {\"name\": \"San Diego County\", \"_id\": \"USA_US-CA_06073\"}\n",
    "    context = {\n",
    "        \"@type\": \"SpecialAnnouncement\",\n",
    "        \"@context\": {\n",
    "            \"schema\": \"http://schema.org/\",\n",
    "            \"rdf\": \"http://www.w3.org/1999/02/22-rdf-syntax-ns#\",\n",
    "            \"rdfs\": \"http://www.w3.org/2000/01/rdf-schema#\",\n",
    "            \"bts\": \"http://schema.biothings.io/\",\n",
    "            \"xsd\": \"http://www.w3.org/2001/XMLSchema#\",\n",
    "            \"owl\": \"http://www.w3.org/2002/07/owl/\",\n",
    "            \"niaid\": \"https://discovery.biothings.io/view/niaid/\",\n",
    "            \"outbreak\": \"https://discovery.biothings.io/view/outbreak/\",\n",
    "        },\n",
    "    }\n",
    "    for eachlink in linklist:\n",
    "        try:\n",
    "            rawresult = requests.get(eachlink)\n",
    "            mainarticle = BeautifulSoup(rawresult.text, \"html.parser\")\n",
    "            basicdict = context.copy()\n",
    "            basicdict.update(get_basic_info(mainarticle))\n",
    "            basicdict.update(get_other_meta(mainarticle))\n",
    "            basicdict[\"location\"] = location\n",
    "            timestring = basicdict[\"datePublished\"].split(\"T\")[1].split(\"-\")[0]\n",
    "            datestring = basicdict[\"datePublished\"].split(\"T\")[0]\n",
    "            basicdict[\"_id\"] = (\n",
    "                basicdict[\"location\"][\"_id\"].replace(\"-\", \".\")\n",
    "                + \"_\"\n",
    "                + datestring.replace(\"-\", \"\")\n",
    "                + \".\"\n",
    "                + timestring.replace(\":\", \".\")\n",
    "            )\n",
    "            with open(\"data/archive/\" + basicdict[\"_id\"] + \".json\", \"w\") as json_file:\n",
    "                json.dump(basicdict, json_file)\n",
    "        except:\n",
    "            failures.append(eachlink)\n",
    "        time.sleep(0.5)\n",
    "    return failures\n",
    "\n",
    "\n",
    "#### Functions for getting most recent 10 results\n",
    "def run_update():\n",
    "    new_results = get_update_urls()  ## Get new urls\n",
    "    archivedlinks = pickle.load(open(\"data/link_list.txt\", \"rb\"))  ## Load previous urls\n",
    "    new_urls = [\n",
    "        x for x in new_results if x not in archivedlinks\n",
    "    ]  ## Check if they've been run before\n",
    "    parse_page(new_urls)  ## Process the new urls\n",
    "    ## update previous list\n",
    "    all_links = new_urls + archivedlinks\n",
    "    with open(\"data/link_list.txt\", \"wb\") as dmpfile:\n",
    "        pickle.dump(all_links, dmpfile)"
   ]
  },
  {
   "cell_type": "code",
   "execution_count": 3,
   "metadata": {},
   "outputs": [],
   "source": [
    "#### Main script\n",
    "# daterange = ['2020/01/','2020/02/','2020/03/','2020/04/','2020/05/','2020/06/','2020/07/','2020/08/']\n",
    "daterange = [\"2020/06/\"]\n",
    "baseurl = \"https://www.countynewscenter.com/\"\n",
    "location = {\"name\": \"San Diego Count\", \"_id\": \"USA_US-CA_06073\"}"
   ]
  },
  {
   "cell_type": "code",
   "execution_count": 7,
   "metadata": {},
   "outputs": [],
   "source": [
    "archivedlinks = get_archive_links(baseurl, daterange)\n",
    "# print(len(archivedlinks))\n",
    "with open(\"data/link_list.txt\", \"wb\") as dmpfile:\n",
    "    pickle.dump(archivedlinks, dmpfile)"
   ]
  },
  {
   "cell_type": "code",
   "execution_count": 3,
   "metadata": {},
   "outputs": [
    {
     "ename": "NameError",
     "evalue": "name 'archivedlinks' is not defined",
     "output_type": "error",
     "traceback": [
      "\u001b[1;31m---------------------------------------------------------------------------\u001b[0m",
      "\u001b[1;31mNameError\u001b[0m                                 Traceback (most recent call last)",
      "\u001b[1;32m<ipython-input-3-ec3fe9f84ab8>\u001b[0m in \u001b[0;36m<module>\u001b[1;34m\u001b[0m\n\u001b[1;32m----> 1\u001b[1;33m \u001b[0mfailures\u001b[0m \u001b[1;33m=\u001b[0m \u001b[0mparse_page\u001b[0m\u001b[1;33m(\u001b[0m\u001b[0marchivedlinks\u001b[0m\u001b[1;33m)\u001b[0m\u001b[1;33m\u001b[0m\u001b[1;33m\u001b[0m\u001b[0m\n\u001b[0m",
      "\u001b[1;31mNameError\u001b[0m: name 'archivedlinks' is not defined"
     ]
    }
   ],
   "source": [
    "failures = parse_page(archivedlinks)"
   ]
  },
  {
   "cell_type": "code",
   "execution_count": null,
   "metadata": {},
   "outputs": [],
   "source": [
    "       "
   ]
  },
  {
   "cell_type": "markdown",
   "metadata": {},
   "source": [
    "## Run an update"
   ]
  },
  {
   "cell_type": "code",
   "execution_count": 3,
   "metadata": {},
   "outputs": [],
   "source": [
    "## Get new urls\n",
    "new_results = get_update_urls()\n",
    "\n",
    "## Load previous urls\n",
    "archivedlinks = pickle.load(open(\"data/link_list.txt\", \"rb\"))\n",
    "\n",
    "## Check if they've been run before\n",
    "new_urls = [x for x in new_results if x not in archivedlinks]\n",
    "\n",
    "## Process the new urls\n",
    "parse_page(new_urls)\n",
    "\n",
    "## update previous list\n",
    "all_links = new_urls + archivedlinks\n",
    "with open(\"data/link_list.txt\", \"wb\") as dmpfile:\n",
    "    pickle.dump(all_links, dmpfile)"
   ]
  },
  {
   "cell_type": "code",
   "execution_count": 3,
   "metadata": {},
   "outputs": [],
   "source": [
    "run_update()"
   ]
  },
  {
   "cell_type": "markdown",
   "metadata": {},
   "source": [
    "### Unit tests / draft code"
   ]
  },
  {
   "cell_type": "code",
   "execution_count": null,
   "metadata": {},
   "outputs": [],
   "source": [
    "newsfeed = feedparser.parse(\"https://www.countynewscenter.com/news/rss\")\n",
    "entry = newsfeed.entries[1]\n",
    "\n",
    "print(entry.keys())\n",
    "print(entry[\"published\"])\n",
    "print(entry[\"id\"])\n",
    "print(entry[\"tags\"])\n",
    "print(entry[\"summary\"])"
   ]
  },
  {
   "cell_type": "code",
   "execution_count": null,
   "metadata": {},
   "outputs": [],
   "source": [
    "rawresult = requests.get(baseurl + daterange[0])\n",
    "archivemain = BeautifulSoup(rawresult.text, \"html.parser\")\n",
    "articlelist = archivemain.findAll(\"article\")\n",
    "pageobject = archivemain.findAll(\"div\", class_=\"pagination\")"
   ]
  },
  {
   "cell_type": "code",
   "execution_count": null,
   "metadata": {},
   "outputs": [],
   "source": [
    "r = requests.get(\n",
    "    \"https://www.countynewscenter.com/housing-assistance-for-those-in-need/\"\n",
    ")\n",
    "mainarticle = BeautifulSoup(r.text, \"html.parser\")\n",
    "# datePublished = mainarticle.find(\"meta\",{\"property\":\"article:published_time\"}).get(\"content\")\n",
    "basicdict.update(get_basic_info(mainarticle))\n",
    "print(basicdict)"
   ]
  },
  {
   "cell_type": "code",
   "execution_count": null,
   "metadata": {},
   "outputs": [],
   "source": [
    "print(mainarticle.find(\"div\", class_=\"entry-content\").text)"
   ]
  },
  {
   "cell_type": "code",
   "execution_count": 24,
   "metadata": {},
   "outputs": [
    {
     "name": "stdout",
     "output_type": "stream",
     "text": [
      "/mayor/news/releases/san-diego-secures-28m-state-project-homekey-funds-create-new-homeless-housing\n"
     ]
    }
   ],
   "source": [
    "eachitem = newslist[0]"
   ]
  },
  {
   "cell_type": "code",
   "execution_count": 32,
   "metadata": {},
   "outputs": [],
   "source": [
    "def get_mayor_urls(year):\n",
    "    baseurl = \"https://www.sandiego.gov\"\n",
    "    rawresult = requests.get(\"https://www.sandiego.gov/mayor/news/releases\" + str(year))\n",
    "    archivemain = BeautifulSoup(rawresult.text, \"html.parser\")\n",
    "    contentmain = archivemain.find(\"main\")\n",
    "    newslist = contentmain.findAll(\"div\", class_=\"twelve columns\")\n",
    "    linklist = []\n",
    "    for eachitem in newslist:\n",
    "        url = eachitem.find(\"a\").get(\"href\")\n",
    "        datePublished = eachitem.find(\"p\", class_=\"date\").text\n",
    "        name = eachitem.find(\"a\").text\n",
    "        linklist.append(\n",
    "            {\"name\": name, \"datePublished\": datePublished, \"url\": baseurl + url}\n",
    "        )\n",
    "    return linklist"
   ]
  },
  {
   "cell_type": "code",
   "execution_count": 33,
   "metadata": {},
   "outputs": [
    {
     "name": "stdout",
     "output_type": "stream",
     "text": [
      "[{'name': 'San Diego Secures $28M in State “Project Homekey” Funds to Create New Homeless Housing', 'datePublished': '08/26/2020', 'url': 'https://www.sandiego.gov/mayor/news/releases/san-diego-secures-28m-state-project-homekey-funds-create-new-homeless-housing'}, {'name': 'San Diego Recognizing 100th Anniversary of Women’s Right to Vote by Illuminating Local Landmarks', 'datePublished': '08/23/2020', 'url': 'https://www.sandiego.gov/mayor/news/releases/san-diego-recognizing-100th-anniversary-women’s-right-vote-illuminating-local-landmarks'}, {'name': 'Mayors Faulconer And Liccardo Issue Joint Statement Urging Californians To Avoid Exodus Of Ride-Share Companies', 'datePublished': '08/19/2020', 'url': 'https://www.sandiego.gov/mayor/news/releases/mayors-faulconer-and-liccardo-issue-joint-statement-urging-californians-avoid-exodus-ride'}, {'name': 'City Opens “Cool Zones” As Temperatures Soar Across Region', 'datePublished': '08/18/2020', 'url': 'https://www.sandiego.gov/mayor/news/releases/city-opens-“cool-zones”-temperatures-soar-across-region'}, {'name': 'Mayor Faulconer Signs Executive Order Allowing Worship and Workouts in City Parks', 'datePublished': '08/18/2020', 'url': 'https://www.sandiego.gov/mayor/news/releases/Mayor-Faulconer-Signs-Executive-Order-Allowing-Worship-and-Workouts-in-City-Parks'}, {'name': ' Mayor Faulconer: Pure Water Flows Forward with Phase 1 Construction Bids ', 'datePublished': '08/7/2020', 'url': 'https://www.sandiego.gov/mayor/news/releases/Mayor-Faulconer:-Pure-Water-Flows-Forward-with-Phase-1-Construction-Bids'}, {'name': 'City Council Unanimously Adopts Mayor Faulconer’s Economic Relief Measures for Small Businesses', 'datePublished': '08/4/2020', 'url': 'https://www.sandiego.gov/mayor/news/releases/City-Council-Unanimously-Adopts-Mayor-Faulconer’s-Economic-Relief-Measures-for-Small-Businesses'}, {'name': 'Mayor’s Incentive Program to Boost Housing Production for Working-Class San Diegans Wins Unanimous Approval', 'datePublished': '07/29/2020', 'url': 'https://www.sandiego.gov/mayor/news/releases/mayor’s-incentive-program-boost-housing-production-working-class-san-diegans-wins'}, {'name': 'Mayor Faulconer Announces $700K to Help Small Businesses in Historically Underserved Communities', 'datePublished': '07/29/2020', 'url': 'https://www.sandiego.gov/mayor/news/releases/Mayor-Faulconer-Announces-$700K-to-Help-Small-Businesses-in-Historically-Underserved-Communities'}, {'name': 'Convention Center Shelter Seen as Possible Model for Marine Corps Recruit Operations', 'datePublished': '07/22/2020', 'url': 'https://www.sandiego.gov/mayor/news/releases/convention-center-shelter-seen-possible-model-marine-corps-recruit-operations'}, {'name': 'Transformed Motel Now Welcoming Families Experiencing Homeless', 'datePublished': '07/21/2020', 'url': 'https://www.sandiego.gov/mayor/news/releases/transformed-motel-now-welcoming-families-experiencing-homeless'}, {'name': 'Mayor Faulconer Expands Outdoor Options for San Diego Gyms, Churches and Salons ', 'datePublished': '07/20/2020', 'url': 'https://www.sandiego.gov/mayor/news/releases/Mayor-Faulconer-Expands-Outdoor-Options-for-San-Diego-Gyms-Churches-and-Salons'}, {'name': '‘Operation Shelter to Home’ Helps 300 San Diegans and Counting Find Housing', 'datePublished': '07/16/2020', 'url': 'https://www.sandiego.gov/mayor/news/releases/‘operation-shelter-home’-helps-300-san-diegans-and-counting-find-housing'}, {'name': 'City of San Diego’s Push to Tackle Digital Divide Moves Forward', 'datePublished': '07/15/2020', 'url': 'https://www.sandiego.gov/Mayor/News/Releases/City-of-San-Diego’s-Push-to-Tackle-Digital-Divide-Moves-Forward'}, {'name': 'Mayor Faulconer’s ‘Streateries’ and ‘Streetail’ Wins Council Approval', 'datePublished': '07/14/2020', 'url': 'https://www.sandiego.gov/Mayor/News/Releases/Mayor-Faulconer’s-‘Streateries’-and-‘Streetail’-Wins-Council-Approval'}, {'name': 'Mayor Sends Gas and Energy Franchise Agreement Terms to Council Committee', 'datePublished': '07/9/2020', 'url': 'https://www.sandiego.gov/mayor/news/releases/Mayor-Sends-Gas-and-Energy-Franchise-Agreement-Terms-to-Council-Committee'}, {'name': 'Mayor Faulconer Signs Executive Order Granting Regulatory Relief to Restaurants Impacted by State Shutdown Directive', 'datePublished': '07/7/2020', 'url': 'https://www.sandiego.gov/mayor/news/releases/mayor-faulconer-signs-executive-order-granting-regulatory-relief-restaurants-impacted'}, {'name': ' Report: One-Third of Essential Workers in Health, Agriculture in City of San Diego Are Immigrants', 'datePublished': '06/30/2020', 'url': 'https://www.sandiego.gov/mayor/news/releases/report-one-third-essential-workers-health-agriculture-city-san-diego-are-immigrants'}, {'name': 'San Diego Adopts Policies For Officers To De-Escalate, Intervene Against Unreasonable Force', 'datePublished': '06/24/2020', 'url': 'https://www.sandiego.gov/mayor/news/releases/San-Diego-Adopts-Policies-For-Officers-To-De-Escalate-Intervene-Against-Unreasonable-Force'}, {'name': 'Regional Builders Laying Future Foundation for San Diego Scientists Amid COVID-19', 'datePublished': '06/24/2020', 'url': 'https://www.sandiego.gov/mayor/news/release/Regional-Builders-Laying-Foundation-for-San-Diego-Scientists-Despite-COVID-19'}, {'name': 'Mayor Introduces Proposal to Create More Outdoor Dining and Retail Space', 'datePublished': '06/18/2020', 'url': 'https://www.sandiego.gov/mayor/news/releases/Mayor-Introduces-Proposal-to-Create-More-Outdoor-Dining-and-Retail-Space'}, {'name': 'Mayor Faulconer Wins City Council Approval to Fund Programs Proven to Reduce Homelessness', 'datePublished': '06/16/2020', 'url': 'https://www.sandiego.gov/mayor/news/releases/mayor-faulconer-wins-city-council-approval-fund-programs-proven-reduce-homelessness'}, {'name': 'City to Reopen Lakes for Recreational Use in Partnership with County Leaders', 'datePublished': '06/5/2020', 'url': 'https://www.sandiego.gov/mayor/news/releases/city-reopen-lakes-recreational-use-partnership-county-leaders'}, {'name': 'Mayor Announces San Diego Entering Phase 2 of Beach Reopenings, Including Piers, Boardwalks and Major Parks', 'datePublished': '06/4/2020', 'url': 'https://www.sandiego.gov/mayor/news/releases/Mayor-Announces-San-Diego-Entering-Phase-2-of-Beach-Reopenings-Including-Piers-Boardwalks-and-Major-Parks'}, {'name': 'SDPD to Stop Use of Carotid Restraint as Use-of-Force Procedure', 'datePublished': '06/1/2020', 'url': 'https://www.sandiego.gov/mayor/news/releases/SDPD-to-Stop-Use-of-Carotid-Restraint-as-Use-of-Force-Procedure'}, {'name': 'Local Company to Deliver Scalable COVID-19 Testing Needed to Reopen Economy', 'datePublished': '05/29/2020', 'url': 'https://www.sandiego.gov/mayor/news/releases/Mayor-Faulconer-Tours-San-Diego-Genomics-Company-Helix-Prior-to-Launch-of-New-Covid-19-Testing-Service-With-Plans-to-Create-Rapid-Tests-For-Widespread-Use'}, {'name': 'City Approves Agreement with SDSU for Purchase of Mission Valley Stadium Site', 'datePublished': '05/29/2020', 'url': 'https://www.sandiego.gov/mayor/news/releases/city-approves-agreement-sdsu-purchase-mission-valley-stadium-site'}, {'name': 'Mayor and Verizon Launch Fast 5G Network As Virtual Health and Online Working Surge', 'datePublished': '05/28/2020', 'url': 'https://www.sandiego.gov/mayor/news/releases/Mayor-and-Verizon-Launch-Fast-5G-Network-As-Virtual-Health-and-Online-Working-Surge'}, {'name': 'City of San Diego to Distribute $1M in Funding to Support Artists Struggling Amid Pandemic', 'datePublished': '05/27/2020', 'url': 'https://www.sandiego.gov/mayor/news/releases/City-of-San-Diego-to-Distribute-$1M-in-Funding-to Support-Artists-Struggling-Amid-Pandemic'}, {'name': 'Mayor, City Attorney to Use Transformed Motel to Help Homeless Families', 'datePublished': '05/26/2020', 'url': 'https://www.sandiego.gov/mayor/news/release/mayor-city-attorney-use-transformed-motel-help-homeless-families'}, {'name': 'Mayor Faulconer: The Need to Heed Public Health Rules Continues Over Memorial Day Weekend', 'datePublished': '05/22/2020', 'url': 'https://www.sandiego.gov/mayor/news/releases/mayor-faulconer-need-heed-public-health-rules-continues-over-memorial-day-weekend'}, {'name': 'San Diego Scientists Making Headway in Global Effort to Treat COVID-19', 'datePublished': '05/21/2020', 'url': 'https://www.sandiego.gov/mayor/news/releases/As-San-Diego-Continues-A-Safe-Reopening,-Mayor-Looks-Ahead-to-Treatments-and-Vaccines-That-Will-Help-End-Pandemic'}, {'name': 'Mayor Faulconer: San Diego’s Small Business Relief Fund to Top $20 Million', 'datePublished': '05/20/2020', 'url': 'https://www.sandiego.gov/mayor/news/releases/Mayor Faulconer: San Diego’s Small Business Relief Fund to Top $20 Million'}, {'name': 'Mayor Faulconer Boosts Childcare, Housing for Homeless and Small Businesses in Budget Update', 'datePublished': '05/19/2020', 'url': 'https://www.sandiego.gov/mayor/news/releases/Mayor-Faulconer-Boosts-Childcare-Housing-for-Homeless-and-Small-Businesses-in-Budget-Update'}, {'name': 'Mayor Faulconer Wins Unanimous City Council Support to Fund Childcare for Essential Workers', 'datePublished': '05/19/2020', 'url': 'https://www.sandiego.gov/mayor/news/releases/mayor-faulconer-wins-unanimous-city-council-support-fund-childcare-essential-workers'}, {'name': 'Overall Crime Declines by 1.3% in City of San Diego', 'datePublished': '05/15/2020', 'url': 'https://www.sandiego.gov/mayor/news/releases/overall-crime-declines-13-city-san-diego'}, {'name': 'Housing Construction Continues During Pandemic as City of San Diego Moves to All Permitting Online', 'datePublished': '05/14/2020', 'url': 'https://www.sandiego.gov/mayor/news/releases/Housing-Construction-Continues-During-Pandemic-as-City-of-San-Diego-Moves-to-All-Permitting-Online'}, {'name': 'Essential Workers Maintaining Electrical Grid as Parts of San Diego Safely Reopen', 'datePublished': '05/13/2020', 'url': 'https://www.sandiego.gov/mayor/news/releases/Essential-Workers-Maintaining-Electrical-Grid-as-Parts-of-San-Diego-Safely-Reopen'}, {'name': 'San Diego to Donate Face Shields to Tijuana as Border Command Group Works to Address COVID-19', 'datePublished': '05/12/2020', 'url': 'https://www.sandiego.gov/mayor/news/releases/san-diego-donate-face-shields-tijuana-border-command-group-works-address-covid-19'}, {'name': 'City of San Diego to Repave One of Its Busiest Streets', 'datePublished': '05/12/2020', 'url': 'https://www.sandiego.gov/mayor/news/releases/City-of-San-Diego-to-Repave-One-of-Its-Busiest-Streets'}, {'name': 'Mayor Faulconer, Supervisor Cox Urge Governor for More Local Control in Reopening Economy', 'datePublished': '05/11/2020', 'url': 'https://www.sandiego.gov/mayor/news/releases/Mayor-Faulconer-Supervisor-Cox-Urge-Governor-for-More-Local-Control-in-Reopening-Economy'}, {'name': 'San Diego, Chula Vista to Partner to Replicate Bridge Shelter Program Regionally', 'datePublished': '05/7/2020', 'url': 'https://www.sandiego.gov/mayor/news/releases/san-diego-chula-vista-partner-replicate-bridge-shelter-program-regionally'}, {'name': 'Mayor Highlights Home Caregivers on Front lines, Invites Seniors to Join Check-in Program', 'datePublished': '05/6/2020', 'url': 'https://www.sandiego.gov/mayor/news/releases/mayor-highlights-home-caregivers-front-lines-invites-seniors-join-check-program'}, {'name': 'Mayor, Illumina Announce $1 Million Donation for San Diego Schools and Frontline Workers', 'datePublished': '05/5/2020', 'url': 'https://www.sandiego.gov/mayor/news/releases/Mayor,-Illumina-Announce-$1-Million-Donation-for-San-Diego-Schools-and-Frontline-Workers'}, {'name': 'Ready to Recover: Mayor Faulconer, Supervisor Cox Outline Reopening Strategy from Local Businesses and Workers', 'datePublished': '05/4/2020', 'url': 'https://www.sandiego.gov/Mayor/news/releases/Mayor-Faulconer-Supervisor-Cox-Outline-Reopening-Strategies-from-Local-Businesses-and-Workers'}, {'name': 'Mayor: ‘More Space Outside Your Place’', 'datePublished': '04/29/2020', 'url': 'https://www.sandiego.gov/mayor/news/release/Mayor:‘More-Space-Outside-Your-Place’'}, {'name': 'Homelessness on City of San Diego Streets Drops by 12 Percent in Annual Count', 'datePublished': '04/28/2020', 'url': 'https://www.sandiego.gov/mayor/news/releases/homelessness-city-san-diego-streets-drops-12-percent-annual-count'}, {'name': 'Mayor, Port District, Police, Lifeguards Report on First Day of Limited Beach Re-Openings', 'datePublished': '04/27/2020', 'url': 'https://www.sandiego.gov/mayor/news/releases/mayor-port-district-police-lifeguards-report-first-day-limited-beach-re-openings'}, {'name': 'Mayor Stresses Importance of Physical Distancing Ahead of Limited Beach Re-Openings Monday', 'datePublished': '04/26/2020', 'url': 'https://www.sandiego.gov/mayor/news/releases/mayor-stresses-importance-physical-distancing-ahead-limited-beach-re-openings-monday'}, {'name': 'Proactive Testing to Detect and Contain COVID-19 Identifies Two Positive Individuals at Shelter to Home Operation', 'datePublished': '04/26/2020', 'url': 'https://www.sandiego.gov/mayor/news/releases/proactive-testing-detect-and-contain-covid-19-identifies-two-positive-individuals-shelter'}, {'name': 'Students Moving from Classrooms to Computers as Schools, City Offer Online Learning', 'datePublished': '04/24/2020', 'url': 'https://www.sandiego.gov/mayor/news/releases/Students-Moving-from-Classrooms-to-Computers-as-Schools-City-Offer-Online-Learning'}, {'name': '‘Mayor Kevin’ Hosts Online Storytime Sundays for Kids, Parents Staying at Home', 'datePublished': '04/24/2020', 'url': 'https://www.sandiego.gov/mayor/news/releases/‘Mayor-Kevin’-Hosts-Online-Storytime-Sundays-for-Kids-Parents-Staying-at-Home'}, {'name': 'Mayor, District Attorney & City Attorney Highlight Resources Available to Avoid Scams and Prevent Abuse', 'datePublished': '04/23/2020', 'url': 'https://www.sandiego.gov/mayor/news/releases/mayor-district-attorney-city-attorney-highlight-resources-available-avoid-scams-and'}, {'name': 'Coastal Mayors United on Coordinated Plan for Eventual Beach Re-Openings', 'datePublished': '04/22/2020', 'url': 'https://www.sandiego.gov/mayor/news/releases/coastal-mayors-united-coordinated-plan-eventual-beach-re-openings'}, {'name': 'Mayor to Landlords: Help Us House Homeless Seniors, Veterans, Individuals ', 'datePublished': '04/21/2020', 'url': 'https://www.sandiego.gov/mayor/news/releases/mayor-landlords-help-us-house-homeless-seniors-veterans-individuals'}, {'name': 'Limited Reopening of Neighborhood Parks for Individual Use to Begin Tuesday in Accordance with COVID-19 Public Health Rules', 'datePublished': '04/20/2020', 'url': 'https://www.sandiego.gov/mayor/news/releases/limited-reopening-neighborhood-parks-individual-use-begin-tuesday-accordance-covid-19'}, {'name': 'Mayor Faulconer, Supervisor Cox Announce Binational and Bipartisan Group to Plan Reactivation of Economy', 'datePublished': '04/17/2020', 'url': 'https://www.sandiego.gov/mayor/news/releases/mayor-faulconer-supervisor-cox-announce-binational-and-bipartisan-group-plan-reactivation'}, {'name': 'Proactive COVID-19 Testing Begins for Shelter Residents at Convention Center', 'datePublished': '04/16/2020', 'url': 'https://www.sandiego.gov/mayor/news/releases/proactive-covid-19-testing-begins-shelter-residents-convention-center'}, {'name': 'Mayor Faulconer Releases Balanced Budget Proposal Amid Unprecedented Health and Economic Crisis', 'datePublished': '04/15/2020', 'url': 'https://www.sandiego.gov/mayor/news/releases/mayor-faulconer-releases-balanced-budget-proposal-amid-unprecedented-health-and-economic'}, {'name': 'After Moving Hundreds from Shelters to Convention Center, Outreach Teams Bring in Homeless Individuals Off Streets', 'datePublished': '04/15/2020', 'url': 'https://www.sandiego.gov/mayor/news/releases/after-moving-hundreds-shelters-convention-center-outreach-teams-bring-homeless'}, {'name': 'Faulconer, Major Companies Launch New Fund to Expand Relief for Small Businesses', 'datePublished': '04/13/2020', 'url': 'https://www.sandiego.gov/mayor/news/releases/Faulconer-Major-Companies-Launch-New-Fund-to-Expand-Relief-for-Small-Businesses'}, {'name': 'Mayor Faulconer Directs Flags to Half-Staff on San Diego Municipal Properties to Honor COVID-19 Victims', 'datePublished': '04/13/2020', 'url': 'https://www.sandiego.gov/department/mayor-faulconer-directs-flags-half-staff-san-diego-municipal-properties-honor-covid-19'}, {'name': 'Mayor, Religious Leaders Urge San Diegans to Celebrate Passover, Easter From Home', 'datePublished': '04/13/2020', 'url': 'https://www.sandiego.gov/mayor/news/releases/mayor-religious-leaders-urge-san-diegans-celebrate-passover-easter-home'}, {'name': 'San Diego Libraries Manufacturing Protective Gear for Healthcare Workers Using 3D Printers', 'datePublished': '04/9/2020', 'url': 'https://www.sandiego.gov/mayor/news/releases/San-Diego-Libraries-Manufacturing-Protective-Gear-for-Healthcare-Workers-Using-3D-Printers'}, {'name': 'Mayor, Supervisors Commit $25M for Behavioral Health Capital Projects to Increase Services', 'datePublished': '04/9/2020', 'url': 'https://www.sandiego.gov/mayor/news/releases/mayor-supervisors-commit-25m-behavioral-health-capital-projects-increase-services'}, {'name': 'San Diego Region Secures $7.1M in State Funds for COVID-19 Homeless Response', 'datePublished': '04/7/2020', 'url': 'https://www.sandiego.gov/mayor/news/releases/san-diego-region-secures-71m-state-funds-covid-19-homeless-response'}, {'name': 'Over 800 Moved to San Diego Convention Center as More Homeless Individuals Relocate', 'datePublished': '04/7/2020', 'url': 'https://www.sandiego.gov/mayor/news/releases/over-800-moved-san-diego-convention-center-more-homeless-individuals-relocate'}, {'name': 'Mayor Calls On San Diego Healthcare Workers to Support the Surge', 'datePublished': '04/6/2020', 'url': 'https://www.sandiego.gov/mayor/news/releases/Mayor-calls-On-San-Diego-Healthcare-Workers-to-Support-the-Surge'}, {'name': 'Veterans from Bridge Shelter Move to Convention Center to Protect Homeless Individuals from COVID-19', 'datePublished': '04/5/2020', 'url': 'https://www.sandiego.gov/mayor/news/releases/veterans-bridge-shelter-moving-convention-center-protect-homeless-individuals-covid-19'}, {'name': 'Mayor: Take Care of Your Mental, Physical Health As Well As Each Other', 'datePublished': '04/3/2020', 'url': 'https://www.sandiego.gov/mayor/news/releases/Mayor-Take-Care-of-our-Mental-Physical-Health-As-Well-As-Each-Other'}, {'name': 'Mayor Faulconer Calls on Manufacturing Industry to Pivot Production to COVID-19 Efforts', 'datePublished': '04/2/2020', 'url': 'https://www.sandiego.gov/mayor/news/releases/Mayor-Faulconer-Calls-on-Manufacturing-Industry-to-Pivot-Production-to-COVID19-Efforts'}, {'name': 'Mayor Faulconer Directs All Available City Property to Support a COVID-19 Patient Surge', 'datePublished': '04/1/2020', 'url': 'https://www.sandiego.gov/mayor/news/releases/Mayor Faulconer Directs All Available City Property to Support a COVID-19 Patient Surge'}, {'name': 'Convention Center Opens as Temporary Regional Homeless Shelter Amid COVID-19 Pandemic', 'datePublished': '04/1/2020', 'url': 'https://www.sandiego.gov/mayor/news/releases/convention-center-opens-temporary-regional-homeless-shelter-amid-covid-19-pandemic'}, {'name': 'Mayor Calls on Grocery Shoppers and Workers to Take Easy Preventative Steps to Avoid COVID-19', 'datePublished': '03/31/2020', 'url': 'https://www.sandiego.gov/mayor/news/releases/MayorCalls-on-Grocery-Shoppers-and-Workers-to-Take-Easy-Preventative-Steps-to-Avoid-COVID-19'}, {'name': 'Mayor Signs Executive Order Declaring 11,000 City Employees Disaster Workers', 'datePublished': '03/30/2020', 'url': 'https://www.sandiego.gov/mayor/news/releases/Mayor-Signs-Executive-Order-Declaring-11,000-City-Employees-Disaster-Workers'}, {'name': 'San Diego Biotech Industry, Universities Leading Global Fight Against COVID-19', 'datePublished': '03/27/2020', 'url': 'https://www.sandiego.gov/mayor/news/releases/San-Diego-Biotech-Industry-Universities-Leading-Global-Fight-Against-COVID19'}, {'name': 'Mayor Proactively Prepares for Budget Impacts from COVID-19', 'datePublished': '03/26/2020', 'url': 'https://www.sandiego.gov/mayor/news/releases/Mayor-Proactively-Prepares-for-Budget-Impacts-from-COVID19'}, {'name': 'San Diego Enacts Emergency Moratorium on Evictions, Creates Relief Fund for Local Businesses', 'datePublished': '03/25/2020', 'url': 'https://www.sandiego.gov/mayor/news/releases/San-Diego-Enacts-Emergency-Moratorium-on-Evictions-Creates-Relief-Fund-for-Local-Businesses'}, {'name': 'Work Begins To Offer More Room For Homeless To Shelter', 'datePublished': '03/24/2020', 'url': 'https://www.sandiego.gov/mayor/news/releases/work-begins-offer-more-room-homeless-shelter'}, {'name': 'Mayor Closes Parks, Beaches and Trails to Discourage Gatherings Amid COVID-19', 'datePublished': '03/23/2020', 'url': 'https://www.sandiego.gov/mayor/news/releases/mayor-closes-parks-beaches-and-trails-discourage-gatherings-amid-covid-19'}, {'name': 'Preparations Underway to Open All of Golden Hall, Parts of Convention Center to Serve Homeless Individuals', 'datePublished': '03/23/2020', 'url': 'https://www.sandiego.gov/mayor/news/releases/preparations-underway-open-all-golden-hall-parts-convention-center-serve-homeless'}, {'name': 'Mayor Faulconer to San Diegans: Continue to ‘Stay Safe, Stay Home’ ', 'datePublished': '03/20/2020', 'url': 'https://www.sandiego.gov/mayor/news/releases/mayor-faulconer-san-diegans-continue-‘stay-safe-stay-home’'}, {'name': 'Mayor Calls on San Diegans to Give Blood, Food, Compassion ', 'datePublished': '03/19/2020', 'url': 'https://www.sandiego.gov/mayor/news/releases/mayor-calls-san-diegans-give-blood-food-compassion'}, {'name': 'Mayor Faulconer Outlines Economic Relief Package for San Diego Businesses Affected by COVID-19', 'datePublished': '03/18/2020', 'url': 'https://www.sandiego.gov/mayor/news/releases/mayor-faulconer-outlines-economic-relief-package-san-diego-businesses-affected-covid-19'}, {'name': 'Mayor, Council President Take Aggressive Steps to Provide Eviction Relief', 'datePublished': '03/17/2020', 'url': 'https://www.sandiego.gov/mayor/news/releases/mayor-council-president-take-aggressive-steps-provide-eviction-relief'}, {'name': 'Mayor Issues Executive Order Further Limiting Gatherings, Closing Bars and Restaurant Dining, and Taking Other Emergency Actions', 'datePublished': '03/16/2020', 'url': 'https://www.sandiego.gov/mayor/news/releases/mayor-issues-executive-order-further-limiting-gatherings-closing-bars-and-restaurant'}, {'name': 'City of San Diego Declares State of Emergency Related to COVID-19', 'datePublished': '03/12/2020', 'url': 'https://www.sandiego.gov/mayor/news/releases/city-san-diego-declares-state-emergency-related-covid-19'}, {'name': 'City of San Diego Awarded State Grant to Expand Housing Opportunities Through Community Plan Updates', 'datePublished': '02/26/2020', 'url': 'https://www.sandiego.gov/mayor/news/releases/city-san-diego-awarded-state-grant-expand-housing-opportunities-through-community-plan'}, {'name': 'Homeless Action Plan in Motion: Interagency Leadership Council Meets for First Time', 'datePublished': '02/14/2020', 'url': 'https://www.sandiego.gov/mayor/news/releases/homeless-action-plan-motion-interagency-leadership-council-meets-first-time'}, {'name': 'City of San Diego Seeks Bids to Build Permanent Supportive Housing at Five Locations', 'datePublished': '02/13/2020', 'url': 'https://www.sandiego.gov/mayor/news/releases/City-of-San-Diego-Seeks-Bids-to-Build-Permanent-Supportive-Housing-at-Five-Locations'}, {'name': 'HUD Secretary Recognizes City of San Diego’s Progress in Reducing Barriers to Affordable Housing', 'datePublished': '02/12/2020', 'url': 'https://www.sandiego.gov/mayor/news/releases/hud-secretary-recognizes-city-san-diego’s-progress-reducing-barriers-affordable-housing'}, {'name': 'San Diego & Tijuana Reaffirm Commitment to Cross-Border Collaboration', 'datePublished': '01/31/2020', 'url': 'https://www.sandiego.gov/mayor/news/releases/san-diego-tijuana-reaffirm-commitment-cross-border-collaboration'}, {'name': 'Mayor Faulconer Attends Historic Trade Agreement Signing at White House', 'datePublished': '01/28/2020', 'url': 'https://www.sandiego.gov/mayor/news/releases/mayor-faulconer-attends-historic-trade-agreement-signing-white-house'}, {'name': 'Mayor Faulconer, SANDAG Sign Agreement with U.S. Navy at Pentagon', 'datePublished': '01/24/2020', 'url': 'https://www.sandiego.gov/mayor/news/releases/mayor-faulconer-sandag-sign-agreement-us-navy-pentagon'}, {'name': \"Mayor Kevin L. Faulconer's 2020 State of the City Address Prepared Remarks\", 'datePublished': '01/15/2020', 'url': 'https://www.sandiego.gov/mayor/news/releases/mayor-kevin-l-faulconers-2020-state-city-address-prepared-remarks'}, {'name': 'Mayor Faulconer Pushes for More Housing & Homeless Solutions, Lays Out Ambitious 2020 Agenda', 'datePublished': '01/15/2020', 'url': 'https://www.sandiego.gov/mayor/news/releases/mayor-faulconer-pushes-more-housing-homeless-solutions-lays-out-ambitious-2020-agenda'}, {'name': 'Mayor Waives City Fees for Sidewalk Repairs to Spur Neighborhood Investment', 'datePublished': '01/14/2020', 'url': 'https://www.sandiego.gov/mayor/news/releases/Mayor-Waives-City-Fees-for-Sidewalk-Repairs-to-Spur-Neighborhood-Investment'}, {'name': 'Mayor Faulconer, Civic Leaders Celebrate Completion of New Boulevard Bus Way', 'datePublished': '01/8/2020', 'url': 'https://www.sandiego.gov/mayor/news/releases/mayor-faulconer-civic-leaders-celebrate-completion-new-boulevard-bus-way'}]\n"
     ]
    }
   ],
   "source": [
    "linklist = get_mayor_urls(2020)\n",
    "print(linklist)"
   ]
  },
  {
   "cell_type": "code",
   "execution_count": 48,
   "metadata": {},
   "outputs": [
    {
     "name": "stdout",
     "output_type": "stream",
     "text": [
      "{'@type': 'Organization', 'name': 'Office of Mayor Kevin L. Faulconer', 'affiliation': {'name': 'City of San Diego Official Website'}}\n",
      "Wednesday, August 26, 2020 - NEWS RELEASE San Diego - With the goal of creating additional housing units for San Diegans experiencing homelessness, the City of San Diego and San Diego Housing Commission (SDHC) were notified Tuesday that the State of California has reserved $27.7 million in Project Homekey Program funds for purchasing a hotel to transform it into permanent\n",
      "======================\n",
      "<main>\n",
      "<div class=\"nine columns no-gutters\">\n",
      "<div class=\"entry__content l-padding-desktop-am l-padding-mobile-bd\">\n",
      "<h1>San Diego Secures $28M in State “Project Homekey” Funds to Create New Homeless Housing</h1> <h2><div class=\"field field-name-field-subtitle field-type-text field-label-hidden\"><div class=\"field-items\"><div class=\"field-item even\">City, Housing Commission to Transform Hotel into Permanent Housing Units Accompanied by County-Funded Services</div></div></div></h2> <div class=\"field field-name-body field-type-text-with-summary field-label-hidden\"><div class=\"field-items\"><div class=\"field-item even\" property=\"content:encoded\"><p>Wednesday, August 26, 2020 - NEWS RELEASE</p>\n",
      "<p><strong>San Diego - </strong>With the goal of creating additional housing units for San Diegans experiencing homelessness, the City of San Diego and San Diego Housing Commission (SDHC) were notified Tuesday that the State of California has reserved $27.7 million in Project Homekey Program funds for purchasing a hotel to transform it into permanent housing units with supportive services in San Diego.</p>\n",
      "<p>“Housing as many people as possible was always the goal of Operation Shelter to Home at the Convention Center, and with this grant, San Diego can keep hundreds more people off the streets for good by moving them into a permanent home,” Mayor Kevin L. Faulconer said.</p>\n",
      "<p>“These state funds will support a unique, game-changing opportunity to quickly create the housing we need for San Diegans experiencing homelessness by acquiring a hotel in good condition and combining housing with essential supportive service to help residents remain stably housed in an apartment they can afford,” SDHC President &amp; CEO Richard C. Gentry said.</p>\n",
      "<p>Late Tuesday, the County of San Diego Board of Supervisors voted unanimously to approve Supervisor Nathan Fletcher’s request to authorize $5.4 million to fund essential supportive services for the individuals who would reside at the property after SDHC acquires it, as well as other potential projects.</p>\n",
      "<p>Residents of the property would include individuals currently staying at Operation Shelter to Home at the San Diego Convention Center, which opened on April 1, 2020, as a temporary shelter during the COVID-19 pandemic that serves approximately 1,200 per day. Operation Shelter to Home is a collaborative effort between the City, SDHC, County, the Regional Task Force on the Homeless (RTFH), San Diego Convention Center and homeless service providers.</p>\n",
      "<p>One of the main objectives of Operation Shelter to Home is to streamline how persons experiencing homelessness access housing resources and move them quickly into permanent housing. So far, Housing Navigation Teams, led by SDHC and RTFH, have helped more than 400 people secure housing and have another 550 in the process. This new property would support the goal to bring 300 to 400 new permanent housing units online.</p>\n",
      "<p>The acceptance of the grant funds and the proposed acquisition of the hotel will be presented in the coming months to the SDHC Board of Commissioners and the San Diego City Council, in its role as the Housing Authority of the City of San Diego.</p>\n",
      "<p>Through the <a href=\"https://www.hcd.ca.gov/grants-funding/active-funding/homekey.shtml#:%7E:text=Under%20the%20Homekey%20program%2C%20local,also%20at%20risk%20of%20serious\">Homekey Program</a>, the state is making $600 million in grant funding available to local public entities in California, including cities, counties or housing authorities. These grant funds may be used to purchase and rehabilitate housing, including hotels, motels, vacant apartment buildings, and other buildings, and convert them into interim or permanent, long-term housing.</p>\n",
      "<p>On August 4, 2020, the SDHC Board of Commissioners <a href=\"https://www.hcd.ca.gov/grants-funding/active-funding/homekey.shtml#:%7E:text=Under%20the%20Homekey%20program%2C%20local,also%20at%20risk%20of%20serious\">authorized staff</a> to submit applications to the State Department of Housing and Community Development Homekey Program for grant funds for two or more properties.</p>\n",
      "<p>SDHC’s proposed purchase of the property would advance the goals of the <a href=\"https://www.sdhc.org/homelessness-solutions/sd-community-action-plan-homelessness/\">City of San Diego Community Action Plan on Homelessness</a>, which the City Council adopted in October 2019. The plan identifies near-term and 10-year goals, including the critical need to increase permanent supportive housing by 2,659 units for individuals experiencing homelessness within a 10-year period, with 60 percent of units (1,595) to be developed within the first four years.</p>\n",
      "</div></div></div> </div>\n",
      "</div>\n",
      "</main>\n"
     ]
    }
   ],
   "source": [
    "rawresult = requests.get(linklist[0][\"url\"])\n",
    "archivemain = BeautifulSoup(rawresult.text, \"html.parser\")\n",
    "description = archivemain.find(\"meta\", attrs={\"name\": \"description\"}).get(\"content\")\n",
    "title = archivemain.find(\"title\").text.split(\" | \")\n",
    "author = {\n",
    "    \"@type\": \"Organization\",\n",
    "    \"name\": \"Office of \" + title[1],\n",
    "    \"affiliation\": {\"name\": title[2]},\n",
    "}\n",
    "contentmain = archivemain.find(\"main\")\n",
    "articleType = \"press release\"\n",
    "articleContent = contentmain.text\n",
    "print(author)\n",
    "print(description)\n",
    "print(\"======================\")\n",
    "\n",
    "print(contentmain)"
   ]
  },
  {
   "cell_type": "code",
   "execution_count": null,
   "metadata": {},
   "outputs": [],
   "source": []
  }
 ],
 "metadata": {
  "kernelspec": {
   "display_name": "Python 3 (ipykernel)",
   "language": "python",
   "name": "python3"
  },
  "language_info": {
   "codemirror_mode": {
    "name": "ipython",
    "version": 3
   },
   "file_extension": ".py",
   "mimetype": "text/x-python",
   "name": "python",
   "nbconvert_exporter": "python",
   "pygments_lexer": "ipython3",
   "version": "3.8.5"
  }
 },
 "nbformat": 4,
 "nbformat_minor": 4
}
