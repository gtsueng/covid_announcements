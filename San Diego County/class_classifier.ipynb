{
 "cells": [
  {
   "cell_type": "code",
   "execution_count": 1,
   "metadata": {},
   "outputs": [],
   "source": [
    "import os\n",
    "import json\n",
    "import pandas\n",
    "import pickle\n",
    "import sklearn"
   ]
  },
  {
   "cell_type": "code",
   "execution_count": 2,
   "metadata": {},
   "outputs": [],
   "source": [
    "#### Data path\n",
    "sourcepath = \"data/archive/\"\n",
    "trainpath = \"data/processed/\"\n",
    "datalist = os.listdir(sourcepath)\n",
    "trainlist = os.listdir(trainpath)"
   ]
  },
  {
   "cell_type": "markdown",
   "metadata": {},
   "source": [
    "## Load data"
   ]
  },
  {
   "cell_type": "code",
   "execution_count": 3,
   "metadata": {},
   "outputs": [
    {
     "name": "stdout",
     "output_type": "stream",
     "text": [
      "                                  id  \\\n",
      "0  USA_US.CA_06073_20200102.09.02.07   \n",
      "1  USA_US.CA_06073_20200102.10.10.06   \n",
      "\n",
      "                                                text  \n",
      "0  \\nInfluenza cases reported last week in San Di...  \n",
      "1  \\nThe beginning of the new year is the perfect...  \n"
     ]
    }
   ],
   "source": [
    "dataset = []\n",
    "for i in range(len(datalist)):\n",
    "    with open(sourcepath + datalist[i]) as rawdata:\n",
    "        tmpresults = json.load(rawdata)\n",
    "        dataset.append({\"id\": tmpresults[\"_id\"], \"text\": tmpresults[\"articleContent\"]})\n",
    "\n",
    "df = pandas.DataFrame(dataset)\n",
    "print(df.head(n=2))"
   ]
  },
  {
   "cell_type": "code",
   "execution_count": 4,
   "metadata": {},
   "outputs": [
    {
     "name": "stdout",
     "output_type": "stream",
     "text": [
      "423\n",
      "                                    id  \\\n",
      "261  USA_US.CA_06073_20200424.12.20.18   \n",
      "178  USA_US.CA_06073_20200404.17.55.36   \n",
      "\n",
      "                                                  text                  type  \\\n",
      "261  \\nWith positive cases of COVID-19 on the rise,...  AuthorizationRequest   \n",
      "178  \\nA new COVID-19 death was reported in San Die...  AuthorizationRequest   \n",
      "\n",
      "                          date  category_id  \n",
      "261  2020-04-24T12:20:18-07:00            0  \n",
      "178  2020-04-04T17:55:36-07:00            0  \n",
      "390\n"
     ]
    }
   ],
   "source": [
    "trainingset = []\n",
    "\n",
    "for i in range(len(trainlist)):\n",
    "    with open(trainpath + trainlist[i]) as traindata:\n",
    "        tmpresults = json.load(traindata)\n",
    "        aboutlist = tmpresults[\"about\"]\n",
    "        for j in range(len(aboutlist)):\n",
    "            trainingset.append(\n",
    "                {\n",
    "                    \"id\": tmpresults[\"_id\"],\n",
    "                    \"text\": tmpresults[\"articleContent\"],\n",
    "                    \"type\": aboutlist[j][\"@type\"],\n",
    "                    \"date\": tmpresults[\"datePublished\"],\n",
    "                }\n",
    "            )\n",
    "\n",
    "tf = pandas.DataFrame(trainingset)\n",
    "print(len(tf))\n",
    "tf.sort_values(\"type\", ascending=True, inplace=True)\n",
    "tf.drop_duplicates(keep=\"first\", inplace=True)\n",
    "tf[\"category_id\"] = tf[\"type\"].factorize()[0]\n",
    "print(tf.head(n=2))\n",
    "print(len(tf))"
   ]
  },
  {
   "cell_type": "markdown",
   "metadata": {},
   "source": [
    "## Inspect data"
   ]
  },
  {
   "cell_type": "code",
   "execution_count": 44,
   "metadata": {},
   "outputs": [
    {
     "name": "stdout",
     "output_type": "stream",
     "text": [
      "                                    id  \\\n",
      "94   USA_US.CA_06073_20200312.16.50.17   \n",
      "115  USA_US.CA_06073_20200320.20.05.31   \n",
      "184  USA_US.CA_06073_20200405.16.52.06   \n",
      "179  USA_US.CA_06073_20200404.17.55.36   \n",
      "360  USA_US.CA_06073_20200624.17.25.58   \n",
      "102  USA_US.CA_06073_20200316.17.15.22   \n",
      "193  USA_US.CA_06073_20200407.16.31.28   \n",
      "109  USA_US.CA_06073_20200318.17.15.58   \n",
      "210  USA_US.CA_06073_20200410.17.06.26   \n",
      "238  USA_US.CA_06073_20200417.18.09.01   \n",
      "139  USA_US.CA_06073_20200324.18.59.08   \n",
      "129  USA_US.CA_06073_20200322.19.08.58   \n",
      "119  USA_US.CA_06073_20200321.19.30.37   \n",
      "219  USA_US.CA_06073_20200413.18.32.10   \n",
      "291  USA_US.CA_06073_20200505.18.12.32   \n",
      "98   USA_US.CA_06073_20200313.18.23.02   \n",
      "\n",
      "                                                  text                   type  \\\n",
      "94   \\nThe County of San Diego today announced that...  PoliciesAndGuidelines   \n",
      "115  \\nCounty officials re-emphasized California Go...  PoliciesAndGuidelines   \n",
      "184  \\nA new COVID-19 death was reported in San Die...  PoliciesAndGuidelines   \n",
      "179  \\nA new COVID-19 death was reported in San Die...  PoliciesAndGuidelines   \n",
      "360  \\nCommunity outbreaks of COVID-19 continue to ...  PoliciesAndGuidelines   \n",
      "102  \\nAs the number of COVID-19 cases continues to...  PoliciesAndGuidelines   \n",
      "193  \\nTwelve additional COVID-19 deaths have been ...  PoliciesAndGuidelines   \n",
      "109  \\nThe County is banning gatherings of 10 or mo...  PoliciesAndGuidelines   \n",
      "210  \\nForty-four San Diegans have died from compli...  PoliciesAndGuidelines   \n",
      "238  \\nThe number of local COVID-19 deaths went up ...  PoliciesAndGuidelines   \n",
      "139  \\nA second San Diego County resident has died ...  PoliciesAndGuidelines   \n",
      "129  \\nThe County announced the first death of a Sa...  PoliciesAndGuidelines   \n",
      "119  \\nThe County reinforced Gov. Gavin Newsom’s ex...  PoliciesAndGuidelines   \n",
      "219  \\nTwo additional COVID-19 deaths have been rep...  PoliciesAndGuidelines   \n",
      "291  \\nStarting Friday, some local businesses can b...  PoliciesAndGuidelines   \n",
      "98   \\nThree additional people have tested presumpt...  PoliciesAndGuidelines   \n",
      "\n",
      "                          date  category_id  \n",
      "94   2020-03-12T16:50:17-07:00            7  \n",
      "115  2020-03-20T20:05:31-07:00            7  \n",
      "184  2020-04-05T16:52:06-07:00            7  \n",
      "179  2020-04-04T17:55:36-07:00            7  \n",
      "360  2020-06-24T17:25:58-07:00            7  \n",
      "102  2020-03-16T17:15:22-07:00            7  \n",
      "193  2020-04-07T16:31:28-07:00            7  \n",
      "109  2020-03-18T17:15:58-07:00            7  \n",
      "210  2020-04-10T17:06:26-07:00            7  \n",
      "238  2020-04-17T18:09:01-07:00            7  \n",
      "139  2020-03-24T18:59:08-07:00            7  \n",
      "129  2020-03-22T19:08:58-07:00            7  \n",
      "119  2020-03-21T19:30:37-07:00            7  \n",
      "219  2020-04-13T18:32:10-07:00            7  \n",
      "291  2020-05-05T18:12:32-07:00            7  \n",
      "98   2020-03-13T18:23:02-07:00            7  \n"
     ]
    }
   ],
   "source": [
    "print(\n",
    "    tf.loc[\n",
    "        (tf[\"text\"].str.contains(\"stay home\")) & (tf[\"type\"] == \"PoliciesAndGuidelines\")\n",
    "    ]\n",
    ")"
   ]
  },
  {
   "cell_type": "code",
   "execution_count": 11,
   "metadata": {},
   "outputs": [
    {
     "data": {
      "image/png": "[encoded data removed]",
      "text/plain": [
       "<Figure size 576x432 with 1 Axes>"
      ]
     },
     "metadata": {
      "needs_background": "light"
     },
     "output_type": "display_data"
    }
   ],
   "source": [
    "import matplotlib.pyplot as plt\n",
    "\n",
    "fig = plt.figure(figsize=(8, 6))\n",
    "tf.groupby(\"type\").text.count().plot.barh(ylim=0)\n",
    "# plt.show()\n",
    "plt.savefig(\"categories.png\", dpi=900, bbox_inches=\"tight\")"
   ]
  },
  {
   "cell_type": "markdown",
   "metadata": {},
   "source": [
    "## create binary training\n",
    "training tests run on using the entire training dataset as it exists (non-exclusive categories) results in very poor performance. Since the categories are not mutually exclusive, better results can be obtained by creating binary training sets for each of the categories, and then running the algorithm"
   ]
  },
  {
   "cell_type": "code",
   "execution_count": 51,
   "metadata": {},
   "outputs": [],
   "source": [
    "def create_training_set(alltraindf, eachcategory):\n",
    "    training_set_pos = alltraindf.loc[alltraindf[\"type\"] == eachcategory].copy()\n",
    "    training_set_pos_ids = training_set_pos[\"id\"].unique().tolist()\n",
    "    training_set_neg = alltraindf.loc[\n",
    "        ~alltraindf[\"id\"].isin(training_set_pos_ids)\n",
    "    ].copy()\n",
    "    training_set_pos[\"target\"] = \"in category\"\n",
    "    training_set_neg[\"target\"] = \"not in category\"\n",
    "    training_set = pandas.concat(\n",
    "        (training_set_pos, training_set_neg), ignore_index=True\n",
    "    )\n",
    "    return training_set"
   ]
  },
  {
   "cell_type": "code",
   "execution_count": 53,
   "metadata": {},
   "outputs": [
    {
     "name": "stdout",
     "output_type": "stream",
     "text": [
      "analyzing results for:  AuthorizationRequest\n",
      "[[ 0  2]\n",
      " [ 0 68]]\n",
      "           in category  not in category  accuracy  macro avg  weighted avg\n",
      "precision          0.0         0.971429  0.971429   0.485714      0.943673\n",
      "recall             0.0         1.000000  0.971429   0.500000      0.971429\n",
      "f1-score           0.0         0.985507  0.971429   0.492754      0.957350\n",
      "support            2.0        68.000000  0.971429  70.000000     70.000000\n",
      "0.8897058823529411\n",
      "[[true neg     false pos]]\n",
      "[[false neg     true pos]]\n",
      "analyzing results for:  DiseaseNotice\n"
     ]
    },
    {
     "name": "stderr",
     "output_type": "stream",
     "text": [
      "C:\\Users\\gtsueng\\Anaconda3\\envs\\outbreak\\lib\\site-packages\\sklearn\\metrics\\_classification.py:1221: UndefinedMetricWarning: Precision and F-score are ill-defined and being set to 0.0 in labels with no predicted samples. Use `zero_division` parameter to control this behavior.\n",
      "  _warn_prf(average, modifier, msg_start, len(result))\n"
     ]
    },
    {
     "name": "stdout",
     "output_type": "stream",
     "text": [
      "[[20  1]\n",
      " [ 0 23]]\n",
      "           in category  not in category  accuracy  macro avg  weighted avg\n",
      "precision     1.000000         0.958333  0.977273   0.979167      0.978220\n",
      "recall        0.952381         1.000000  0.977273   0.976190      0.977273\n",
      "f1-score      0.975610         0.978723  0.977273   0.977167      0.977237\n",
      "support      21.000000        23.000000  0.977273  44.000000     44.000000\n",
      "1.0\n",
      "[[true neg     false pos]]\n",
      "[[false neg     true pos]]\n",
      "analyzing results for:  EventInfo\n",
      "[[ 5  5]\n",
      " [ 0 55]]\n",
      "           in category  not in category  accuracy  macro avg  weighted avg\n",
      "precision     1.000000         0.916667  0.923077   0.958333      0.929487\n",
      "recall        0.500000         1.000000  0.923077   0.750000      0.923077\n",
      "f1-score      0.666667         0.956522  0.923077   0.811594      0.911929\n",
      "support      10.000000        55.000000  0.923077  65.000000     65.000000\n",
      "0.9563636363636363\n",
      "[[true neg     false pos]]\n",
      "[[false neg     true pos]]\n",
      "analyzing results for:  FundingRequest\n",
      "[[71]]\n",
      "           not in category  accuracy  macro avg  weighted avg\n",
      "precision              1.0       1.0        1.0           1.0\n",
      "recall                 1.0       1.0        1.0           1.0\n",
      "f1-score               1.0       1.0        1.0           1.0\n",
      "support               71.0       1.0       71.0          71.0\n",
      "auc not calculated\n",
      "[[true neg     false pos]]\n",
      "[[false neg     true pos]]\n",
      "analyzing results for:  Other\n",
      "[[ 0  6]\n",
      " [ 1 66]]\n",
      "           in category  not in category  accuracy  macro avg  weighted avg\n",
      "precision          0.0         0.916667   0.90411   0.458333      0.841324\n",
      "recall             0.0         0.985075   0.90411   0.492537      0.904110\n",
      "f1-score           0.0         0.949640   0.90411   0.474820      0.871588\n",
      "support            6.0        67.000000   0.90411  73.000000     73.000000\n",
      "0.9353233830845771\n",
      "[[true neg     false pos]]\n",
      "[[false neg     true pos]]\n",
      "analyzing results for:  PersonnelChangeInfo\n",
      "[[ 0  2]\n",
      " [ 0 69]]\n",
      "           in category  not in category  accuracy  macro avg  weighted avg\n",
      "precision          0.0         0.971831  0.971831   0.485915      0.944455\n",
      "recall             0.0         1.000000  0.971831   0.500000      0.971831\n",
      "f1-score           0.0         0.985714  0.971831   0.492857      0.957948\n",
      "support            2.0        69.000000  0.971831  71.000000     71.000000\n",
      "0.8768115942028986\n",
      "[[true neg     false pos]]\n",
      "[[false neg     true pos]]\n",
      "analyzing results for:  PhysicalAccessInfo\n"
     ]
    },
    {
     "name": "stderr",
     "output_type": "stream",
     "text": [
      "C:\\Users\\gtsueng\\Anaconda3\\envs\\outbreak\\lib\\site-packages\\sklearn\\metrics\\_classification.py:1221: UndefinedMetricWarning: Precision and F-score are ill-defined and being set to 0.0 in labels with no predicted samples. Use `zero_division` parameter to control this behavior.\n",
      "  _warn_prf(average, modifier, msg_start, len(result))\n"
     ]
    },
    {
     "name": "stdout",
     "output_type": "stream",
     "text": [
      "[[ 4  4]\n",
      " [ 2 40]]\n",
      "           in category  not in category  accuracy  macro avg  weighted avg\n",
      "precision     0.666667         0.909091      0.88   0.787879      0.870303\n",
      "recall        0.500000         0.952381      0.88   0.726190      0.880000\n",
      "f1-score      0.571429         0.930233      0.88   0.750831      0.872824\n",
      "support       8.000000        42.000000      0.88  50.000000     50.000000\n",
      "0.9345238095238095\n",
      "[[true neg     false pos]]\n",
      "[[false neg     true pos]]\n",
      "analyzing results for:  PoliciesAndGuidelines\n",
      "[[ 7  5]\n",
      " [ 0 37]]\n",
      "           in category  not in category  accuracy  macro avg  weighted avg\n",
      "precision     1.000000         0.880952  0.897959   0.940476      0.910107\n",
      "recall        0.583333         1.000000  0.897959   0.791667      0.897959\n",
      "f1-score      0.736842         0.936709  0.897959   0.836775      0.887762\n",
      "support      12.000000        37.000000  0.897959  49.000000     49.000000\n",
      "0.9493243243243243\n",
      "[[true neg     false pos]]\n",
      "[[false neg     true pos]]\n",
      "analyzing results for:  ServiceChangeInfo\n",
      "[[ 0  4]\n",
      " [ 0 66]]\n",
      "           in category  not in category  accuracy  macro avg  weighted avg\n",
      "precision          0.0         0.942857  0.942857   0.471429      0.888980\n",
      "recall             0.0         1.000000  0.942857   0.500000      0.942857\n",
      "f1-score           0.0         0.970588  0.942857   0.485294      0.915126\n",
      "support            4.0        66.000000  0.942857  70.000000     70.000000\n",
      "0.9015151515151515\n",
      "[[true neg     false pos]]\n",
      "[[false neg     true pos]]\n",
      "analyzing results for:  TestingInfo\n"
     ]
    },
    {
     "name": "stderr",
     "output_type": "stream",
     "text": [
      "C:\\Users\\gtsueng\\Anaconda3\\envs\\outbreak\\lib\\site-packages\\sklearn\\metrics\\_classification.py:1221: UndefinedMetricWarning: Precision and F-score are ill-defined and being set to 0.0 in labels with no predicted samples. Use `zero_division` parameter to control this behavior.\n",
      "  _warn_prf(average, modifier, msg_start, len(result))\n"
     ]
    },
    {
     "name": "stdout",
     "output_type": "stream",
     "text": [
      "[[ 0  3]\n",
      " [ 0 64]]\n",
      "           in category  not in category  accuracy  macro avg  weighted avg\n",
      "precision          0.0         0.955224  0.955224   0.477612      0.912453\n",
      "recall             0.0         1.000000  0.955224   0.500000      0.955224\n",
      "f1-score           0.0         0.977099  0.955224   0.488550      0.933349\n",
      "support            3.0        64.000000  0.955224  67.000000     67.000000\n",
      "0.8932291666666667\n",
      "[[true neg     false pos]]\n",
      "[[false neg     true pos]]\n"
     ]
    },
    {
     "name": "stderr",
     "output_type": "stream",
     "text": [
      "C:\\Users\\gtsueng\\Anaconda3\\envs\\outbreak\\lib\\site-packages\\sklearn\\metrics\\_classification.py:1221: UndefinedMetricWarning: Precision and F-score are ill-defined and being set to 0.0 in labels with no predicted samples. Use `zero_division` parameter to control this behavior.\n",
      "  _warn_prf(average, modifier, msg_start, len(result))\n"
     ]
    }
   ],
   "source": [
    "from sklearn.feature_extraction.text import TfidfVectorizer\n",
    "from sklearn.ensemble import RandomForestClassifier\n",
    "from sklearn.metrics import (\n",
    "    classification_report,\n",
    "    confusion_matrix,\n",
    "    accuracy_score,\n",
    "    roc_auc_score,\n",
    ")\n",
    "\n",
    "vectorizer = TfidfVectorizer()\n",
    "\n",
    "categorylist = tf[\"type\"].unique().tolist()\n",
    "\n",
    "for eachcategory in categorylist:\n",
    "    print(\"analyzing results for: \", eachcategory)\n",
    "    training_set = create_training_set(tf, eachcategory)\n",
    "    X = vectorizer.fit_transform(training_set[\"text\"])\n",
    "    features = vectorizer.get_feature_names()\n",
    "    #### Split the data into training and test data\n",
    "    X_train, X_test, y_train, y_test = train_test_split(\n",
    "        X, training_set.target, test_size=0.2, random_state=0\n",
    "    )\n",
    "\n",
    "    #### Classify training text as in category or not in category\n",
    "    classifier = RandomForestClassifier(n_estimators=1000, random_state=0)\n",
    "    classifier.fit(X_train, y_train)\n",
    "    y_pred = classifier.predict(X_test)\n",
    "\n",
    "    #### analyze results\n",
    "    print(confusion_matrix(y_test, y_pred))\n",
    "    report = classification_report(y_test, y_pred, output_dict=True)\n",
    "    print(pandas.DataFrame(report))\n",
    "    probs = classifier.predict_proba(X_test)\n",
    "    probs = probs[:, 1]\n",
    "    try:\n",
    "        auc = roc_auc_score(y_test, probs)\n",
    "        print(auc)\n",
    "    except:\n",
    "        print(\"auc not calculated\")\n",
    "    print(\"[[true neg     false pos]]\")\n",
    "    print(\"[[false neg     true pos]]\")"
   ]
  },
  {
   "cell_type": "code",
   "execution_count": 36,
   "metadata": {},
   "outputs": [
    {
     "data": {
      "text/plain": [
       "(365, 6713)"
      ]
     },
     "execution_count": 36,
     "metadata": {},
     "output_type": "execute_result"
    }
   ],
   "source": [
    "tfidf = TfidfVectorizer(\n",
    "    sublinear_tf=True,\n",
    "    min_df=5,\n",
    "    norm=\"l2\",\n",
    "    encoding=\"latin-1\",\n",
    "    ngram_range=(1, 2),\n",
    "    stop_words=\"english\",\n",
    ")\n",
    "features = tfidf.fit_transform(tf.text).toarray()\n",
    "labels = tf.category_id\n",
    "features.shape"
   ]
  },
  {
   "cell_type": "code",
   "execution_count": 37,
   "metadata": {},
   "outputs": [],
   "source": [
    "from sklearn.model_selection import train_test_split\n",
    "from sklearn.feature_extraction.text import CountVectorizer\n",
    "from sklearn.feature_extraction.text import TfidfTransformer\n",
    "from sklearn.naive_bayes import MultinomialNB\n",
    "\n",
    "X_train, X_test, y_train, y_test = train_test_split(\n",
    "    tf[\"text\"], tf[\"type\"], random_state=0\n",
    ")\n",
    "count_vect = CountVectorizer()\n",
    "X_train_counts = count_vect.fit_transform(X_train)\n",
    "tfidf_transformer = TfidfTransformer()\n",
    "X_train_tfidf = tfidf_transformer.fit_transform(X_train_counts)\n",
    "clf = MultinomialNB().fit(X_train_tfidf, y_train)"
   ]
  },
  {
   "cell_type": "code",
   "execution_count": 41,
   "metadata": {},
   "outputs": [
    {
     "name": "stdout",
     "output_type": "stream",
     "text": [
      "\n",
      "A second San Diego County resident has died from COVID-19, and two infants have been diagnosed with the disease.\n",
      "Public Health Officer Dr. Wilma Wooten, M.D., M.P.H., reported during a news conference Tuesday that the 76-year-old man had significant health issues. Wooten also noted the first two San Diego County cases of coronavirus disease in infants, a 6-week-old boy and a 4-month-old girl. Both are currently isolated in their homes.\n",
      "Cases are increasing daily and Wooten doesn’t expect a downturn anytime soon.\n",
      "“Things are likely to get worse before they get better. We do not believe that the local wave of COVID-19 cases has yet crested,” said Wooten. “It’s incumbent upon on all of us to do our part to flatten the curve.”\n",
      "Cases Rise to 242\n",
      "Through 5 p.m. Tuesday, the County total number of confirmed COVID-19 cases increased to 242, 12 more than Monday. Two San Diego County residents have died.\n",
      "Of the total, 226 were San Diego County residents and 16 were non-residents.\n",
      "Of the 242 cases, two are less than 9 years old, three are between 10 and 19 years old, 163 were people between the ages of 20 and 49; 33 were between 50 and 59; and 41 were 60 or older. The County’s daily coronavirus in San Diego webpage now also breaks down the number of cases by city and unincorporated communities.\n",
      "Health Order Enforcement\n",
      "At the news conference, Sheriff Bill Gore said his department has not issued any citations for violations of the state and county’s public health orders that close certain businesses and require social distancing.\n",
      "“We’re choosing instead to get voluntary compliance and so far, that’s what we received,” Gore said.\n",
      "If that changes, the Sheriff’s Department will start to issue citations, which carry up to a $1,000 fine and six months in jail.\n",
      "COVID-19 County Response Update\n",
      "County Supervisors were updated on the County’s response to COVID-19 during a board meeting Tuesday.\n",
      "\n",
      "Testing: The County will soon get additional testing kits to augment those coming from the CDC. Testing is conducted at the County Public Health Lab, hospitals and commercial labs. Six hospitals also offer lab testing, and another is expected by the end of the week. Two nationwide commercial labs, Quest and LabCorp are actively testing as well. Public health nurses began offering drive-through testing by referral only on March 13. So far, 26 people have been tested.\n",
      "Supplies: The County is low on face shields, gowns and goggles but supplies from the national stockpile are expected Tuesday. The County’s Medical Operations Center is in constant contact with hospitals and is filling supply requests daily.\n",
      "Shelter and Care: The County developed a temporary lodging system for the general population and those experiencing homelessness who require isolation because of COVID-19. They must be referred by County nurses at the shelters, homeless outreach teams or health care providers. The County has about 2,000 hotels rooms in the region.\n",
      "Flattening the Curve: The County is actively trying to flatten the curve of cases and deaths from COVID-19. Wooten told the Board if nothing is done, the curve spikes increasing the number of deaths and overburdening the health system. If people follow guidelines to stay home, the curve flattens. COVID-19 cases extend along a greater time period, but the health system can manage the pandemic leading to fewer cases and deaths, until a vaccine and anti-viral medications can be produced.\n",
      "\n",
      "County Board Actions Tuesday\n",
      "The County Board of Supervisors voted to:\n",
      "\n",
      "Protect tenants, homeowners and small businesses in the unincorporated area that cannot pay rent because of the COVID-19 pandemic with a moratorium on evictions. The County will also work with financial institutions to provide similar protections for those facing foreclosure.\n",
      "Defer County fees for most local food facilities that had to close, limit services and suffered financial losses because of the COVID-19 public health order. Health permit renewals, late fees and food plan review correction fees submitted before March 1 do not have to be paid until Sept. 1. While grocery stores and markets are allowed to continue operating under the order, other food and beverage industry operations such as restaurants, bars, breweries, caterers, mobile food facilities and schools need support to recover.\n",
      "Approve $10 million to cover COVID-19 related costs.\n",
      "\n",
      "What Everyone Can Do to Minimize Chances of Getting COVID-19\n",
      "People can help limit the spread of infection, by taking these steps:\n",
      "\n",
      "Wash your hands often to help protect you from germs.\n",
      "Use an alcohol-based hand sanitizer, if soap and water are not available. It should contain at least 60% alcohol.\n",
      "Avoid touching your eyes, nose or mouth.\n",
      "Clean and disinfect frequently touched objects and surfaces.\n",
      "Avoid close contact with people who are sick.\n",
      "If you are sick, stay home and keep your distance from others to protect them from getting sick too.\n",
      "Cover your mouth and nose with a tissue when coughing or sneezing, then wash your hands.\n",
      "Practice other good health habits. Get plenty of sleep, be physically active, manage your stress, drink plenty of fluids and eat nutritious food.\n",
      "\n",
      "Get COVID-19 Info Via Text\n",
      "County residents can now receive information about the novel coronavirus via text thanks to the County COVID-19 public information text message alert system. The system allows County health officials to send real-time information about COVID-19 in the region. To sign up to receive the messages, text COSD COVID19 to 468-311. The system was set up to let County public health officials issue information and instructions on changes related to COVID-19 in the region.\n",
      "If you have individual questions, please talk to your health care provider. For community resources, please call 2-1-1 San Diego or visit 211sandiego.org or the County’s Coronavirus Disease webpage.\n",
      " \n",
      "['DiseaseNotice']\n"
     ]
    }
   ],
   "source": [
    "j = 11\n",
    "print(tf.iloc[j][\"text\"])\n",
    "print(clf.predict(count_vect.transform([tf.iloc[j][\"text\"]])))"
   ]
  },
  {
   "cell_type": "code",
   "execution_count": 9,
   "metadata": {},
   "outputs": [
    {
     "data": {
      "image/png": "[encoded data removed]",
      "text/plain": [
       "<Figure size 432x288 with 1 Axes>"
      ]
     },
     "metadata": {
      "needs_background": "light"
     },
     "output_type": "display_data"
    }
   ],
   "source": [
    "from sklearn.linear_model import LogisticRegression\n",
    "from sklearn.ensemble import RandomForestClassifier\n",
    "from sklearn.svm import LinearSVC\n",
    "from sklearn.model_selection import cross_val_score\n",
    "\n",
    "models = [\n",
    "    RandomForestClassifier(n_estimators=200, max_depth=3, random_state=0),\n",
    "    LinearSVC(),\n",
    "    MultinomialNB(),\n",
    "    LogisticRegression(random_state=0),\n",
    "]\n",
    "CV = 5\n",
    "cv_df = pandas.DataFrame(index=range(CV * len(models)))\n",
    "entries = []\n",
    "\n",
    "for model in models:\n",
    "    model_name = model.__class__.__name__\n",
    "    accuracies = cross_val_score(model, features, labels, scoring=\"accuracy\", cv=CV)\n",
    "    for fold_idx, accuracy in enumerate(accuracies):\n",
    "        entries.append((model_name, fold_idx, accuracy))\n",
    "\n",
    "cv_df = pandas.DataFrame(entries, columns=[\"model_name\", \"fold_idx\", \"accuracy\"])\n",
    "\n",
    "import seaborn as sns\n",
    "\n",
    "sns.boxplot(x=\"model_name\", y=\"accuracy\", data=cv_df)\n",
    "sns.stripplot(\n",
    "    x=\"model_name\",\n",
    "    y=\"accuracy\",\n",
    "    data=cv_df,\n",
    "    size=8,\n",
    "    jitter=True,\n",
    "    edgecolor=\"gray\",\n",
    "    linewidth=2,\n",
    ")\n",
    "plt.show()"
   ]
  },
  {
   "cell_type": "code",
   "execution_count": 33,
   "metadata": {},
   "outputs": [
    {
     "name": "stdout",
     "output_type": "stream",
     "text": [
      "[[7 0 0 0 2 3 0 1]\n",
      " [1 2 2 0 0 2 0 0]\n",
      " [1 2 3 0 0 0 0 0]\n",
      " [0 0 1 0 0 0 0 0]\n",
      " [3 0 0 0 3 1 0 0]\n",
      " [5 0 0 0 1 0 0 0]\n",
      " [0 0 1 0 1 0 0 0]\n",
      " [1 0 0 0 0 0 0 0]]\n"
     ]
    },
    {
     "data": {
      "text/plain": [
       "\"\\nfig, ax = plt.subplots(figsize=(10,10))\\nsns.heatmap(conf_mat, annot=True, fmt='d')#, xticklabels=tf.type, yticklabels=tf.type)\\nplt.ylabel('Actual')\\nplt.xlabel('Predicted')\\nplt.show()\\n\""
      ]
     },
     "execution_count": 33,
     "metadata": {},
     "output_type": "execute_result"
    }
   ],
   "source": [
    "import matplotlib.pyplot as plt\n",
    "from sklearn.model_selection import train_test_split\n",
    "from sklearn.svm import LinearSVC\n",
    "\n",
    "model = LinearSVC()\n",
    "import seaborn as sns\n",
    "\n",
    "X_train, X_test, y_train, y_test, indices_train, indices_test = train_test_split(\n",
    "    features, labels, tf.index, test_size=0.25, random_state=0\n",
    ")\n",
    "model.fit(X_train, y_train)\n",
    "y_pred = model.predict(X_test)\n",
    "\n",
    "from sklearn.metrics import confusion_matrix\n",
    "\n",
    "conf_mat = confusion_matrix(y_test, y_pred)\n",
    "print(conf_mat)\n",
    "\"\"\"\n",
    "fig, ax = plt.subplots(figsize=(10,10))\n",
    "sns.heatmap(conf_mat, annot=True, fmt='d')#, xticklabels=tf.type, yticklabels=tf.type)\n",
    "plt.ylabel('Actual')\n",
    "plt.xlabel('Predicted')\n",
    "plt.show()\n",
    "\"\"\""
   ]
  },
  {
   "cell_type": "code",
   "execution_count": null,
   "metadata": {},
   "outputs": [],
   "source": [
    "# importing necessary libraries\n",
    "from sklearn.metrics import confusion_matrix\n",
    "from sklearn.model_selection import train_test_split\n",
    "\n",
    "\n",
    "# X -> features, y -> label\n",
    "X = tf.data\n",
    "y = tf.cate\n",
    "\n",
    "# dividing X, y into train and test data\n",
    "X_train, X_test, y_train, y_test = train_test_split(X, y, random_state=0)\n",
    "\n",
    "# training a DescisionTreeClassifier\n",
    "from sklearn.tree import DecisionTreeClassifier\n",
    "\n",
    "dtree_model = DecisionTreeClassifier(max_depth=2).fit(X_train, y_train)\n",
    "dtree_predictions = dtree_model.predict(X_test)\n",
    "\n",
    "# creating a confusion matrix\n",
    "cm = confusion_matrix(y_test, dtree_predictions)"
   ]
  }
 ],
 "metadata": {
  "kernelspec": {
   "display_name": "Python 3",
   "language": "python",
   "name": "python3"
  },
  "language_info": {
   "codemirror_mode": {
    "name": "ipython",
    "version": 3
   },
   "file_extension": ".py",
   "mimetype": "text/x-python",
   "name": "python",
   "nbconvert_exporter": "python",
   "pygments_lexer": "ipython3",
   "version": "3.8.5"
  }
 },
 "nbformat": 4,
 "nbformat_minor": 4
}
