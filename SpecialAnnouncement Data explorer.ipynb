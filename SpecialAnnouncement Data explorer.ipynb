{
 "cells": [
  {
   "cell_type": "code",
   "execution_count": 1,
   "metadata": {},
   "outputs": [],
   "source": [
    "import pandas\n",
    "import json\n"
   ]
  },
  {
   "cell_type": "code",
   "execution_count": 13,
   "metadata": {},
   "outputs": [
    {
     "name": "stdout",
     "output_type": "stream",
     "text": [
      "{'@type': 'DataFeedItem', 'dateCreated': '2020-07-22T12:17:02.848+00:00', 'item': [{'@type': 'SpecialAnnouncement', 'datePosted': '2020-07-19T18:30:00Z', 'expires': '2020-07-26T18:30:00Z', 'name': 'Covid cases information by zipcode, county and state', 'newsUpdatesAndGuidelines': 'http://covidbyzipcode.com', 'text': 'Find out covid cases information about your area using zipcode search, know latest data of state and best practices to be followed in this pandemic.', 'url': 'http://covidbyzipcode.com'}]}\n"
     ]
    }
   ],
   "source": [
    "importfile = 'data/special_announcement_data.json'\n",
    "with open(importfile, encoding='UTF-8') as f:\n",
    "    data = json.load(f)\n",
    "\n",
    "announcelist = data['dataFeedElement']\n",
    "print(announcelist[0])"
   ]
  },
  {
   "cell_type": "code",
   "execution_count": 27,
   "metadata": {},
   "outputs": [
    {
     "name": "stdout",
     "output_type": "stream",
     "text": [
      "number of announcements in feed:  534\n",
      "number of gov urls in feed:  23\n"
     ]
    }
   ],
   "source": [
    "urllist = []\n",
    "nourls = []\n",
    "govurls = []\n",
    "i=0\n",
    "for eachannounce in announcelist:\n",
    "    annitem = eachannounce['item'][0]\n",
    "    try:\n",
    "        urllist.append(annitem['url'])\n",
    "        if 'gov' in annitem['url']:\n",
    "            govurls.append(annitem['url'])\n",
    "    except:\n",
    "        nourls.append(annitem['text'])\n",
    "    i=i+1\n",
    "\n",
    "print('number of announcements in feed: ',i)\n",
    "print('number of gov urls in feed: ',len(govurls))"
   ]
  },
  {
   "cell_type": "code",
   "execution_count": 29,
   "metadata": {
    "scrolled": false
   },
   "outputs": [
    {
     "name": "stdout",
     "output_type": "stream",
     "text": [
      "https://www.warwickshire.gov.uk/information-coronavirus/information-guidance-education-schools/1\n",
      "https://www.fisheries.noaa.gov/national/noaa-fisheries-coronavirus-covid-19-update\n",
      "https://www.fisheries.noaa.gov/national/seafood-commerce-certification/seafood-inspection-and-coronavirus-covid-19\n",
      "https://yougov.co.uk/covid-19\n",
      "https://www.fisheries.noaa.gov/feature-story/noaa-fisheries-issues-emergency-action-waive-observer-coverage-case-case-basis\n",
      "https://www.warwickshire.gov.uk/homepage/231/coronavirus---adult-social-care\n",
      "https://covid19.odisha.gov.in/\n",
      "https://www.maine.gov/covid19\n",
      "https://www.state.gov/coronavirus/repatriation\n",
      "http://www.nih.gov/health-information/coronavirus\n",
      "https://www.state.gov/coronavirus/repatriation/\n",
      "https://www.warwickshire.gov.uk/information-coronavirus\n",
      "https://www.warwickshire.gov.uk/\n",
      "https://www.govdocs.com/https://www.govdocs.com/coronavirus-resources-for-employers/\n",
      "https://www.state.gov/coronavirus/\n",
      "https://www.irs.gov/coronavirus-tax-relief-and-economic-impact-payments\n",
      "http://courts.alaska.gov/covid19/index.htm\n",
      "https://statedashboard.odisha.gov.in/\n",
      "https://www.warwickshire.gov.uk/coronavirusbusinesssupport\n",
      "https://covid19.nj.gov/\n",
      "https://www.sccgov.org/https://www.sccgov.org/sites/covid19/Pages/public-health-orders.aspx\n",
      "https://www.warwickshire.gov.uk/Coronavirus-Healthadvice\n",
      "https://www.fisheries.noaa.gov/feature-story/commerce-secretary-announces-allocation-300-million-cares-act-funding\n"
     ]
    }
   ],
   "source": [
    "for eachgov in govurls:\n",
    "    print(eachgov)"
   ]
  },
  {
   "cell_type": "code",
   "execution_count": null,
   "metadata": {},
   "outputs": [],
   "source": []
  }
 ],
 "metadata": {
  "kernelspec": {
   "display_name": "Python 3",
   "language": "python",
   "name": "python3"
  },
  "language_info": {
   "codemirror_mode": {
    "name": "ipython",
    "version": 3
   },
   "file_extension": ".py",
   "mimetype": "text/x-python",
   "name": "python",
   "nbconvert_exporter": "python",
   "pygments_lexer": "ipython3",
   "version": "3.6.10"
  }
 },
 "nbformat": 4,
 "nbformat_minor": 2
}
